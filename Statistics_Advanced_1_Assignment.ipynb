{
  "nbformat": 4,
  "nbformat_minor": 0,
  "metadata": {
    "colab": {
      "provenance": []
    },
    "kernelspec": {
      "name": "python3",
      "display_name": "Python 3"
    },
    "language_info": {
      "name": "python"
    }
  },
  "cells": [
    {
      "cell_type": "markdown",
      "source": [
        "**Statistics Advanced - 1 | Assignment**\n",
        "**Assignment Code: DA-AG-006**\n",
        "\n",
        "---\n",
        "\n",
        "**Question 1: What is a random variable in probability theory?**\n",
        "\n",
        "**Answer:**\n",
        "A random variable is a numerical value that represents the outcome of a random phenomenon. It assigns a real number to each outcome in a sample space. Random variables can be used to quantify outcomes and support statistical analysis.\n",
        "\n",
        "---\n",
        "\n",
        "**Question 2: What are the types of random variables?**\n",
        "\n",
        "**Answer:**\n",
        "There are two main types of random variables:\n",
        "\n",
        "1. **Discrete Random Variable** – Takes on countable values (e.g., number of heads in coin tosses).\n",
        "2. **Continuous Random Variable** – Takes on an infinite number of values within a range (e.g., height, weight).\n",
        "\n",
        "---\n",
        "\n",
        "**Question 3: Explain the difference between discrete and continuous distributions.**\n",
        "\n",
        "**Answer:**\n",
        "\n",
        "* **Discrete Distribution:** Deals with variables that have specific and countable outcomes. Example: Binomial distribution.\n",
        "* **Continuous Distribution:** Deals with variables that can take any value within a range. Example: Normal distribution.\n",
        "\n",
        "---\n",
        "\n",
        "**Question 4: What is a binomial distribution, and how is it used in probability?**\n",
        "\n",
        "**Answer:**\n",
        "A binomial distribution is a discrete probability distribution of the number of successes in a fixed number of independent trials, each with the same probability of success. It is used in scenarios like pass/fail tests, yes/no outcomes, etc.\n",
        "\n",
        "---\n",
        "\n",
        "**Question 5: What is the standard normal distribution, and why is it important?**\n",
        "\n",
        "**Answer:**\n",
        "The standard normal distribution is a normal distribution with a mean of 0 and standard deviation of 1. It's important because:\n",
        "\n",
        "* It simplifies computation in hypothesis testing and confidence intervals.\n",
        "* Many statistical methods assume standard normality for calculations.\n",
        "\n",
        "---\n",
        "\n",
        "**Question 6: What is the Central Limit Theorem (CLT), and why is it critical in statistics?**\n",
        "\n",
        "**Answer:**\n",
        "The Central Limit Theorem states that the distribution of the sample mean approaches a normal distribution as the sample size becomes large, regardless of the population’s original distribution. It is critical because it allows us to use normal distribution-based methods for inference on sample data.\n",
        "\n",
        "---\n",
        "\n",
        "**Question 7: What is the significance of confidence intervals in statistical analysis?**\n",
        "\n",
        "**Answer:**\n",
        "Confidence intervals provide a range within which the true population parameter is likely to lie, with a certain level of confidence (e.g., 95%). They give a measure of uncertainty and are used to estimate population parameters.\n",
        "\n",
        "---\n",
        "\n",
        "**Question 8: What is the concept of expected value in a probability distribution?**\n",
        "\n",
        "**Answer:**\n",
        "The expected value is the long-run average value of a random variable over many trials. It is calculated by summing the product of each possible value and its probability:\n",
        "$E(X) = \\sum [x \\cdot P(x)]$\n",
        "\n",
        "---\n",
        "\n",
        "**Question 9: Write a Python program to generate 1000 random numbers from a normal distribution with mean = 50 and standard deviation = 5. Compute its mean and standard deviation using NumPy, and draw a histogram to visualize the distribution.**\n",
        "\n",
        "**Answer :**\n",
        "\n",
        "\n",
        "```\n"
      ],
      "metadata": {
        "id": "tlIQuuf1Ftvc"
      }
    },
    {
      "cell_type": "code",
      "source": [
        "import numpy as np\n",
        "import matplotlib.pyplot as plt\n",
        "\n",
        "# Generate 1000 random numbers from normal distribution\n",
        "data = np.random.normal(loc=50, scale=5, size=1000)\n",
        "\n",
        "# Compute mean and standard deviation\n",
        "mean = np.mean(data)\n",
        "std_dev = np.std(data)\n",
        "\n",
        "print(\"Mean:\", mean)\n",
        "print(\"Standard Deviation:\", std_dev)\n",
        "\n",
        "# Plot histogram\n",
        "plt.hist(data, bins=30, edgecolor='black')\n",
        "plt.title('Histogram of Normally Distributed Data')\n",
        "plt.xlabel('Value')\n",
        "plt.ylabel('Frequency')\n",
        "plt.show()"
      ],
      "metadata": {
        "colab": {
          "base_uri": "https://localhost:8080/",
          "height": 507
        },
        "id": "gM0eZEfCGXwe",
        "outputId": "b9864777-3a11-4733-98f4-daff621f0c2c"
      },
      "execution_count": 2,
      "outputs": [
        {
          "output_type": "stream",
          "name": "stdout",
          "text": [
            "Mean: 50.01904155358371\n",
            "Standard Deviation: 5.031423929620739\n"
          ]
        },
        {
          "output_type": "display_data",
          "data": {
            "text/plain": [
              "<Figure size 640x480 with 1 Axes>"
            ],
            "image/png": "[encoded data removed]"
          },
          "metadata": {}
        }
      ]
    },
    {
      "cell_type": "markdown",
      "source": [
        "**Question 10: You are working as a data analyst for a retail company. The company has collected daily sales data for 2 years and wants you to identify the overall sales trend.**\n",
        "\n",
        "**daily\\_sales = \\[220, 245, 210, 265, 230, 250, 260, 275, 240, 255, 235, 260, 245, 250, 225, 270, 265, 255, 250, 260]**\n",
        "\n",
        "* Explain how you would apply the Central Limit Theorem to estimate the average sales with a 95% confidence interval.\n",
        "* Write the Python code to compute the mean sales and its confidence interval.\n",
        "\n",
        "**Answer:**\n",
        "\n",
        "**Explanation:**\n",
        "Using the Central Limit Theorem, we assume the sample mean is approximately normally distributed. We can compute the 95% confidence interval using:\n",
        "$CI = \\bar{x} \\pm Z \\cdot \\left(\\frac{s}{\\sqrt{n}}\\right)$\n",
        "Where:\n",
        "\n",
        "* $\\bar{x}$ is the sample mean\n",
        "* $s$ is the sample standard deviation\n",
        "* $n$ is the sample size\n",
        "* $Z$ is 1.96 for 95% confidence\n"
      ],
      "metadata": {
        "id": "LfVhbJC-HUqd"
      }
    },
    {
      "cell_type": "code",
      "source": [
        "#Python Code:\n",
        "\n",
        "import numpy as np\n",
        "import scipy.stats as stats\n",
        "\n",
        "daily_sales = [220, 245, 210, 265, 230, 250, 260, 275, 240, 255,\n",
        "               235, 260, 245, 250, 225, 270, 265, 255, 250, 260]\n",
        "\n",
        "# Convert to NumPy array\n",
        "data = np.array(daily_sales)\n",
        "\n",
        "# Calculate mean, std deviation, and sample size\n",
        "mean = np.mean(data)\n",
        "std_dev = np.std(data, ddof=1)  # Sample standard deviation\n",
        "n = len(data)\n",
        "\n",
        "# 95% confidence interval\n",
        "z = 1.96\n",
        "margin_of_error = z * (std_dev / np.sqrt(n))\n",
        "ci_lower = mean - margin_of_error\n",
        "ci_upper = mean + margin_of_error\n",
        "\n",
        "print(\"Mean Sales:\", mean)\n",
        "print(\"95% Confidence Interval:\", (ci_lower, ci_upper))\n"
      ],
      "metadata": {
        "colab": {
          "base_uri": "https://localhost:8080/"
        },
        "id": "TZwYO_vmHM-3",
        "outputId": "a543f92e-f0ae-4116-f78b-f753ce77dc64"
      },
      "execution_count": 4,
      "outputs": [
        {
          "output_type": "stream",
          "name": "stdout",
          "text": [
            "Mean Sales: 248.25\n",
            "95% Confidence Interval: (np.float64(240.68312934041109), np.float64(255.81687065958891))\n"
          ]
        }
      ]
    },
    {
      "cell_type": "code",
      "source": [],
      "metadata": {
        "id": "VLeyl2o3H4sW"
      },
      "execution_count": null,
      "outputs": []
    }
  ]
}